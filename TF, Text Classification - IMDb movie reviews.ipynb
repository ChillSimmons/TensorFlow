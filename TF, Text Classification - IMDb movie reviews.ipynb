{
 "cells": [
  {
   "cell_type": "markdown",
   "metadata": {},
   "source": [
    "# TF 2.0 alpha - Text Classification\n",
    "\n",
    "## Train a Neural Network to classify Movie Review text\n",
    "\n",
    "### The IMDb dataset - 50,000 movie reviews - 25,000 train, 25,000 test\n",
    "### BINARY Classification - reviews as Positive or Negative - sets are Balanced"
   ]
  },
  {
   "cell_type": "code",
   "execution_count": 2,
   "metadata": {},
   "outputs": [
    {
     "name": "stderr",
     "output_type": "stream",
     "text": [
      "/anaconda3/lib/python3.6/site-packages/h5py/__init__.py:36: FutureWarning: Conversion of the second argument of issubdtype from `float` to `np.floating` is deprecated. In future, it will be treated as `np.float64 == np.dtype(float).type`.\n",
      "  from ._conv import register_converters as _register_converters\n"
     ]
    },
    {
     "name": "stdout",
     "output_type": "stream",
     "text": [
      "2.0.0-alpha0\n"
     ]
    }
   ],
   "source": [
    "from __future__ import absolute_import, division, print_function\n",
    "\n",
    "import tensorflow as tf\n",
    "from tensorflow import keras\n",
    "\n",
    "import numpy as np\n",
    "\n",
    "print(tf.__version__)"
   ]
  },
  {
   "cell_type": "markdown",
   "metadata": {},
   "source": [
    "## DOWNLOAD the DATASET\n",
    "\n",
    "#### Preprocessed - reviews (sequence of words) were converted to sequences of integers\n",
    "#### Preprocessed - labels, integer value 0 (negative) or 1 (positive)"
   ]
  },
  {
   "cell_type": "code",
   "execution_count": 3,
   "metadata": {},
   "outputs": [
    {
     "name": "stdout",
     "output_type": "stream",
     "text": [
      "Downloading data from https://storage.googleapis.com/tensorflow/tf-keras-datasets/imdb.npz\n",
      "17465344/17464789 [==============================] - 6s 0us/step\n"
     ]
    }
   ],
   "source": [
    "# num_words keeps top 10000 frequent occuring words in the training data\n",
    "\n",
    "imdb = keras.datasets.imdb\n",
    "\n",
    "(train_data, train_labels), (test_data, test_labels) = imdb.load_data(num_words=10000)"
   ]
  },
  {
   "cell_type": "markdown",
   "metadata": {},
   "source": [
    "## EXPLORE the DATA"
   ]
  },
  {
   "cell_type": "code",
   "execution_count": 5,
   "metadata": {},
   "outputs": [
    {
     "name": "stdout",
     "output_type": "stream",
     "text": [
      "Training entries: 25000, labels: 25000\n"
     ]
    }
   ],
   "source": [
    "print(\"Training entries: {}, labels: {}\".format(len(train_data), len(train_labels)))"
   ]
  },
  {
   "cell_type": "code",
   "execution_count": 6,
   "metadata": {},
   "outputs": [
    {
     "name": "stdout",
     "output_type": "stream",
     "text": [
      "[1, 14, 22, 16, 43, 530, 973, 1622, 1385, 65, 458, 4468, 66, 3941, 4, 173, 36, 256, 5, 25, 100, 43, 838, 112, 50, 670, 2, 9, 35, 480, 284, 5, 150, 4, 172, 112, 167, 2, 336, 385, 39, 4, 172, 4536, 1111, 17, 546, 38, 13, 447, 4, 192, 50, 16, 6, 147, 2025, 19, 14, 22, 4, 1920, 4613, 469, 4, 22, 71, 87, 12, 16, 43, 530, 38, 76, 15, 13, 1247, 4, 22, 17, 515, 17, 12, 16, 626, 18, 2, 5, 62, 386, 12, 8, 316, 8, 106, 5, 4, 2223, 5244, 16, 480, 66, 3785, 33, 4, 130, 12, 16, 38, 619, 5, 25, 124, 51, 36, 135, 48, 25, 1415, 33, 6, 22, 12, 215, 28, 77, 52, 5, 14, 407, 16, 82, 2, 8, 4, 107, 117, 5952, 15, 256, 4, 2, 7, 3766, 5, 723, 36, 71, 43, 530, 476, 26, 400, 317, 46, 7, 4, 2, 1029, 13, 104, 88, 4, 381, 15, 297, 98, 32, 2071, 56, 26, 141, 6, 194, 7486, 18, 4, 226, 22, 21, 134, 476, 26, 480, 5, 144, 30, 5535, 18, 51, 36, 28, 224, 92, 25, 104, 4, 226, 65, 16, 38, 1334, 88, 12, 16, 283, 5, 16, 4472, 113, 103, 32, 15, 16, 5345, 19, 178, 32]\n"
     ]
    }
   ],
   "source": [
    "# Reviews converted to integers - each integer represents a specific dictionary word\n",
    "\n",
    "print(train_data[0])"
   ]
  },
  {
   "cell_type": "code",
   "execution_count": 7,
   "metadata": {},
   "outputs": [
    {
     "data": {
      "text/plain": [
       "(218, 189)"
      ]
     },
     "execution_count": 7,
     "metadata": {},
     "output_type": "execute_result"
    }
   ],
   "source": [
    "# Reviews can be different lengths - check the first 2\n",
    "\n",
    "len(train_data[0]), len(train_data[1])"
   ]
  },
  {
   "cell_type": "markdown",
   "metadata": {},
   "source": [
    "### Need to be the Same Length to be fed to the neural network - Address this"
   ]
  },
  {
   "cell_type": "code",
   "execution_count": 8,
   "metadata": {},
   "outputs": [
    {
     "name": "stdout",
     "output_type": "stream",
     "text": [
      "Downloading data from https://storage.googleapis.com/tensorflow/tf-keras-datasets/imdb_word_index.json\n",
      "1646592/1641221 [==============================] - 1s 1us/step\n"
     ]
    }
   ],
   "source": [
    "# How To Convert integers back to words \n",
    "# create helper function - query dict object containing integer to string mapping\n",
    "\n",
    "# Dict mapping words to an integer index\n",
    "word_index = imdb.get_word_index()\n",
    "\n",
    "# the 1st indices are reversed\n",
    "word_index = {k:(v+3) for k, v in word_index.items()}\n",
    "word_index[\"<PAD>\"] = 0\n",
    "word_index[\"<START>\"] = 1\n",
    "word_index[\"<UNK>\"] = 2\n",
    "word_index[\"<UNUSED>\"] = 3\n",
    "\n",
    "reverse_word_index = dict([(value, key) for (key, value) in word_index.items()])\n",
    "\n",
    "def decode_review(text):\n",
    "    return ' '.join([reverse_word_index.get(i, '?') for i in text])"
   ]
  },
  {
   "cell_type": "code",
   "execution_count": 9,
   "metadata": {},
   "outputs": [
    {
     "data": {
      "text/plain": [
       "\"<START> this film was just brilliant casting location scenery story direction everyone's really suited the part they played and you could just imagine being there robert <UNK> is an amazing actor and now the same being director <UNK> father came from the same scottish island as myself so i loved the fact there was a real connection with this film the witty remarks throughout the film were great it was just brilliant so much that i bought the film as soon as it was released for <UNK> and would recommend it to everyone to watch and the fly fishing was amazing really cried at the end it was so sad and you know what they say if you cry at a film it must have been good and this definitely was also <UNK> to the two little boy's that played the <UNK> of norman and paul they were just brilliant children are often left out of the <UNK> list i think because the stars that play them all grown up are such a big profile for the whole film but these children are amazing and should be praised for what they have done don't you think the whole story was so lovely because it was true and was someone's life after all that was shared with us all\""
      ]
     },
     "execution_count": 9,
     "metadata": {},
     "output_type": "execute_result"
    }
   ],
   "source": [
    "# Now convert the 1st review to text - with decode_review\n",
    "\n",
    "decode_review(train_data[0])"
   ]
  },
  {
   "cell_type": "markdown",
   "metadata": {},
   "source": [
    "## PREPARE the DATA"
   ]
  },
  {
   "cell_type": "markdown",
   "metadata": {},
   "source": [
    "#### Reviews (array of integers) must be converted to TENSORS to feed network\n",
    "\n",
    "#### Can be done by - Converting arrays to Vectors of 0s and 1s for occurrence. [3,5] would be a 10000-dimension vector, all 0s except for indices 3 and 5 (1s). Make the 1st layer Dense, handling floating-point vector data. This method is very memory intensive - need num_words*num_reviews\n",
    "\n",
    "#### Can also be done by - Pad arrays to all have the same length. Create integer Tensor of the following shape, max_length*num_reviews - use an Embedding layer to handle this"
   ]
  },
  {
   "cell_type": "code",
   "execution_count": 12,
   "metadata": {},
   "outputs": [],
   "source": [
    "# Pad arrays with pad_sequences - to make reviews the Same length\n",
    "\n",
    "train_data = keras.preprocessing.sequence.pad_sequences(train_data,\n",
    "                                                      value=word_index[\"<PAD>\"],\n",
    "                                                      padding='post',\n",
    "                                                      maxlen=256)\n",
    "\n",
    "test_data = keras.preprocessing.sequence.pad_sequences(test_data,\n",
    "                                                      value=word_index[\"<PAD>\"],\n",
    "                                                      padding='post',\n",
    "                                                      maxlen=256)\n",
    "                                                    "
   ]
  },
  {
   "cell_type": "code",
   "execution_count": 13,
   "metadata": {},
   "outputs": [
    {
     "data": {
      "text/plain": [
       "(256, 256)"
      ]
     },
     "execution_count": 13,
     "metadata": {},
     "output_type": "execute_result"
    }
   ],
   "source": [
    "# check the Length of the 1st two reviews\n",
    "\n",
    "len(train_data[0]), len(train_data[1])"
   ]
  },
  {
   "cell_type": "code",
   "execution_count": 14,
   "metadata": {},
   "outputs": [
    {
     "name": "stdout",
     "output_type": "stream",
     "text": [
      "[   1   14   22   16   43  530  973 1622 1385   65  458 4468   66 3941\n",
      "    4  173   36  256    5   25  100   43  838  112   50  670    2    9\n",
      "   35  480  284    5  150    4  172  112  167    2  336  385   39    4\n",
      "  172 4536 1111   17  546   38   13  447    4  192   50   16    6  147\n",
      " 2025   19   14   22    4 1920 4613  469    4   22   71   87   12   16\n",
      "   43  530   38   76   15   13 1247    4   22   17  515   17   12   16\n",
      "  626   18    2    5   62  386   12    8  316    8  106    5    4 2223\n",
      " 5244   16  480   66 3785   33    4  130   12   16   38  619    5   25\n",
      "  124   51   36  135   48   25 1415   33    6   22   12  215   28   77\n",
      "   52    5   14  407   16   82    2    8    4  107  117 5952   15  256\n",
      "    4    2    7 3766    5  723   36   71   43  530  476   26  400  317\n",
      "   46    7    4    2 1029   13  104   88    4  381   15  297   98   32\n",
      " 2071   56   26  141    6  194 7486   18    4  226   22   21  134  476\n",
      "   26  480    5  144   30 5535   18   51   36   28  224   92   25  104\n",
      "    4  226   65   16   38 1334   88   12   16  283    5   16 4472  113\n",
      "  103   32   15   16 5345   19  178   32    0    0    0    0    0    0\n",
      "    0    0    0    0    0    0    0    0    0    0    0    0    0    0\n",
      "    0    0    0    0    0    0    0    0    0    0    0    0    0    0\n",
      "    0    0    0    0]\n"
     ]
    }
   ],
   "source": [
    "# the 1st review is now padded\n",
    "\n",
    "print(train_data[0])"
   ]
  },
  {
   "cell_type": "markdown",
   "metadata": {},
   "source": [
    "## BUILD the MODEL"
   ]
  },
  {
   "cell_type": "code",
   "execution_count": 16,
   "metadata": {},
   "outputs": [
    {
     "name": "stdout",
     "output_type": "stream",
     "text": [
      "Model: \"sequential\"\n",
      "_________________________________________________________________\n",
      "Layer (type)                 Output Shape              Param #   \n",
      "=================================================================\n",
      "embedding (Embedding)        (None, None, 16)          160000    \n",
      "_________________________________________________________________\n",
      "global_average_pooling1d (Gl (None, 16)                0         \n",
      "_________________________________________________________________\n",
      "dense (Dense)                (None, 16)                272       \n",
      "_________________________________________________________________\n",
      "dense_1 (Dense)              (None, 1)                 17        \n",
      "=================================================================\n",
      "Total params: 160,289\n",
      "Trainable params: 160,289\n",
      "Non-trainable params: 0\n",
      "_________________________________________________________________\n"
     ]
    }
   ],
   "source": [
    "# input size - 10000, vocabulary count used for the movie reviews\n",
    "vocab_size = 10000\n",
    "\n",
    "model = keras.Sequential()\n",
    "model.add(keras.layers.Embedding(vocab_size, 16))\n",
    "model.add(keras.layers.GlobalAveragePooling1D())\n",
    "model.add(keras.layers.Dense(16, activation='relu'))\n",
    "model.add(keras.layers.Dense(1, activation='sigmoid'))\n",
    "\n",
    "model.summary()"
   ]
  },
  {
   "cell_type": "markdown",
   "metadata": {},
   "source": [
    "### LAYERS explained"
   ]
  },
  {
   "cell_type": "markdown",
   "metadata": {},
   "source": [
    "#### EMBEDDING - finds embedding vector from integer-encoded vocab for each word-index. Vectors are learned as model trains - vectors add a dimension to output - resulting dimentions (batch, sequence, embedding)\n",
    "\n",
    "#### GlobalAveragePooling1D - returns fixed-length vector output for each example by averaging over sequence dimension\n",
    "\n",
    "#### DENSE - received fixed-length vector, into this dense layer with 16 Hidden Units\n",
    "\n",
    "#### DENSE - last layer, output to a single node, through Sigmoid activation to a value between 0 - 1 (as probability or confidence level)"
   ]
  },
  {
   "cell_type": "markdown",
   "metadata": {},
   "source": [
    "### LOSS FUNCTION and OPTIMIZER"
   ]
  },
  {
   "cell_type": "code",
   "execution_count": 18,
   "metadata": {},
   "outputs": [],
   "source": [
    "# binary classification LF  -  binary_crossentropy \n",
    "# (better than mean_squared_error for probability)\n",
    "\n",
    "model.compile(optimizer='adam',\n",
    "             loss='binary_crossentropy',\n",
    "             metrics=['accuracy'])"
   ]
  },
  {
   "cell_type": "markdown",
   "metadata": {},
   "source": [
    "### Create a VALIDATION Set"
   ]
  },
  {
   "cell_type": "code",
   "execution_count": 19,
   "metadata": {},
   "outputs": [],
   "source": [
    "# set apart 10000 examples from Training data - Tune model w Only Training\n",
    "# use Test data for Evaluation \n",
    "\n",
    "x_val = train_data[:10000]\n",
    "partial_x_train = train_data[10000:]\n",
    "\n",
    "y_val = train_labels[:10000]\n",
    "partial_y_train = train_labels[10000:]"
   ]
  },
  {
   "cell_type": "markdown",
   "metadata": {},
   "source": [
    "## TRAIN the MODEL"
   ]
  },
  {
   "cell_type": "code",
   "execution_count": 20,
   "metadata": {},
   "outputs": [
    {
     "name": "stdout",
     "output_type": "stream",
     "text": [
      "Train on 15000 samples, validate on 10000 samples\n",
      "Epoch 1/40\n",
      "15000/15000 [==============================] - 1s 75us/sample - loss: 0.6920 - accuracy: 0.5449 - val_loss: 0.6902 - val_accuracy: 0.6023\n",
      "Epoch 2/40\n",
      "15000/15000 [==============================] - 1s 51us/sample - loss: 0.6861 - accuracy: 0.6963 - val_loss: 0.6813 - val_accuracy: 0.7497\n",
      "Epoch 3/40\n",
      "15000/15000 [==============================] - 1s 48us/sample - loss: 0.6724 - accuracy: 0.7567 - val_loss: 0.6645 - val_accuracy: 0.7624\n",
      "Epoch 4/40\n",
      "15000/15000 [==============================] - 1s 50us/sample - loss: 0.6491 - accuracy: 0.7667 - val_loss: 0.6379 - val_accuracy: 0.7665\n",
      "Epoch 5/40\n",
      "15000/15000 [==============================] - 1s 71us/sample - loss: 0.6150 - accuracy: 0.7964 - val_loss: 0.6025 - val_accuracy: 0.7914\n",
      "Epoch 6/40\n",
      "15000/15000 [==============================] - 1s 52us/sample - loss: 0.5724 - accuracy: 0.8171 - val_loss: 0.5617 - val_accuracy: 0.8068\n",
      "Epoch 7/40\n",
      "15000/15000 [==============================] - 1s 50us/sample - loss: 0.5251 - accuracy: 0.8302 - val_loss: 0.5176 - val_accuracy: 0.8226\n",
      "Epoch 8/40\n",
      "15000/15000 [==============================] - 1s 49us/sample - loss: 0.4782 - accuracy: 0.8477 - val_loss: 0.4771 - val_accuracy: 0.8343\n",
      "Epoch 9/40\n",
      "15000/15000 [==============================] - 1s 59us/sample - loss: 0.4347 - accuracy: 0.8610 - val_loss: 0.4407 - val_accuracy: 0.8446\n",
      "Epoch 10/40\n",
      "15000/15000 [==============================] - 1s 52us/sample - loss: 0.3964 - accuracy: 0.8743 - val_loss: 0.4107 - val_accuracy: 0.8515\n",
      "Epoch 11/40\n",
      "15000/15000 [==============================] - 1s 52us/sample - loss: 0.3640 - accuracy: 0.8811 - val_loss: 0.3859 - val_accuracy: 0.8591\n",
      "Epoch 12/40\n",
      "15000/15000 [==============================] - 1s 59us/sample - loss: 0.3367 - accuracy: 0.8893 - val_loss: 0.3669 - val_accuracy: 0.8624\n",
      "Epoch 13/40\n",
      "15000/15000 [==============================] - 1s 61us/sample - loss: 0.3143 - accuracy: 0.8957 - val_loss: 0.3500 - val_accuracy: 0.8673\n",
      "Epoch 14/40\n",
      "15000/15000 [==============================] - 1s 52us/sample - loss: 0.2941 - accuracy: 0.9011 - val_loss: 0.3376 - val_accuracy: 0.8715\n",
      "Epoch 15/40\n",
      "15000/15000 [==============================] - 1s 49us/sample - loss: 0.2772 - accuracy: 0.9055 - val_loss: 0.3273 - val_accuracy: 0.8742\n",
      "Epoch 16/40\n",
      "15000/15000 [==============================] - 1s 50us/sample - loss: 0.2620 - accuracy: 0.9101 - val_loss: 0.3187 - val_accuracy: 0.8749\n",
      "Epoch 17/40\n",
      "15000/15000 [==============================] - 1s 52us/sample - loss: 0.2480 - accuracy: 0.9157 - val_loss: 0.3116 - val_accuracy: 0.8781\n",
      "Epoch 18/40\n",
      "15000/15000 [==============================] - 1s 53us/sample - loss: 0.2356 - accuracy: 0.9198 - val_loss: 0.3053 - val_accuracy: 0.8805\n",
      "Epoch 19/40\n",
      "15000/15000 [==============================] - 1s 53us/sample - loss: 0.2244 - accuracy: 0.9223 - val_loss: 0.3002 - val_accuracy: 0.8813\n",
      "Epoch 20/40\n",
      "15000/15000 [==============================] - 1s 57us/sample - loss: 0.2144 - accuracy: 0.9266 - val_loss: 0.2967 - val_accuracy: 0.8815\n",
      "Epoch 21/40\n",
      "15000/15000 [==============================] - 1s 55us/sample - loss: 0.2041 - accuracy: 0.9309 - val_loss: 0.2936 - val_accuracy: 0.8826\n",
      "Epoch 22/40\n",
      "15000/15000 [==============================] - 1s 50us/sample - loss: 0.1955 - accuracy: 0.9333 - val_loss: 0.2908 - val_accuracy: 0.8829\n",
      "Epoch 23/40\n",
      "15000/15000 [==============================] - 1s 51us/sample - loss: 0.1868 - accuracy: 0.9381 - val_loss: 0.2896 - val_accuracy: 0.8830\n",
      "Epoch 24/40\n",
      "15000/15000 [==============================] - 1s 66us/sample - loss: 0.1793 - accuracy: 0.9415 - val_loss: 0.2879 - val_accuracy: 0.8846\n",
      "Epoch 25/40\n",
      "15000/15000 [==============================] - 1s 56us/sample - loss: 0.1716 - accuracy: 0.9453 - val_loss: 0.2862 - val_accuracy: 0.8847\n",
      "Epoch 26/40\n",
      "15000/15000 [==============================] - 1s 51us/sample - loss: 0.1648 - accuracy: 0.9477 - val_loss: 0.2866 - val_accuracy: 0.8834\n",
      "Epoch 27/40\n",
      "15000/15000 [==============================] - 1s 51us/sample - loss: 0.1582 - accuracy: 0.9499 - val_loss: 0.2859 - val_accuracy: 0.8848\n",
      "Epoch 28/40\n",
      "15000/15000 [==============================] - 1s 53us/sample - loss: 0.1520 - accuracy: 0.9530 - val_loss: 0.2863 - val_accuracy: 0.8857\n",
      "Epoch 29/40\n",
      "15000/15000 [==============================] - 1s 54us/sample - loss: 0.1466 - accuracy: 0.9558 - val_loss: 0.2876 - val_accuracy: 0.8833\n",
      "Epoch 30/40\n",
      "15000/15000 [==============================] - 1s 60us/sample - loss: 0.1409 - accuracy: 0.9572 - val_loss: 0.2869 - val_accuracy: 0.8858\n",
      "Epoch 31/40\n",
      "15000/15000 [==============================] - 1s 61us/sample - loss: 0.1351 - accuracy: 0.9609 - val_loss: 0.2878 - val_accuracy: 0.8869\n",
      "Epoch 32/40\n",
      "15000/15000 [==============================] - 1s 53us/sample - loss: 0.1299 - accuracy: 0.9629 - val_loss: 0.2891 - val_accuracy: 0.8862\n",
      "Epoch 33/40\n",
      "15000/15000 [==============================] - 1s 50us/sample - loss: 0.1248 - accuracy: 0.9645 - val_loss: 0.2912 - val_accuracy: 0.8857\n",
      "Epoch 34/40\n",
      "15000/15000 [==============================] - 1s 51us/sample - loss: 0.1203 - accuracy: 0.9663 - val_loss: 0.2931 - val_accuracy: 0.8852\n",
      "Epoch 35/40\n",
      "15000/15000 [==============================] - 1s 50us/sample - loss: 0.1161 - accuracy: 0.9667 - val_loss: 0.2953 - val_accuracy: 0.8859\n",
      "Epoch 36/40\n",
      "15000/15000 [==============================] - 1s 57us/sample - loss: 0.1116 - accuracy: 0.9697 - val_loss: 0.2970 - val_accuracy: 0.8843\n",
      "Epoch 37/40\n",
      "15000/15000 [==============================] - 1s 53us/sample - loss: 0.1072 - accuracy: 0.9700 - val_loss: 0.2995 - val_accuracy: 0.8839\n",
      "Epoch 38/40\n",
      "15000/15000 [==============================] - 1s 55us/sample - loss: 0.1033 - accuracy: 0.9719 - val_loss: 0.3029 - val_accuracy: 0.8826\n",
      "Epoch 39/40\n",
      "15000/15000 [==============================] - 1s 52us/sample - loss: 0.1000 - accuracy: 0.9729 - val_loss: 0.3062 - val_accuracy: 0.8825\n",
      "Epoch 40/40\n",
      "15000/15000 [==============================] - 1s 53us/sample - loss: 0.0959 - accuracy: 0.9747 - val_loss: 0.3089 - val_accuracy: 0.8831\n"
     ]
    }
   ],
   "source": [
    "# 40 iterations over samples in the x_train and y_train Tensors\n",
    "# mini-batches of 512 samples\n",
    "\n",
    "history = model.fit(partial_x_train,\n",
    "                   partial_y_train,\n",
    "                   epochs=40,\n",
    "                   batch_size=512,\n",
    "                   validation_data=(x_val, y_val),\n",
    "                   verbose=1)"
   ]
  },
  {
   "cell_type": "markdown",
   "metadata": {},
   "source": [
    "## EVALUATE the MODEL"
   ]
  },
  {
   "cell_type": "code",
   "execution_count": 21,
   "metadata": {},
   "outputs": [
    {
     "name": "stdout",
     "output_type": "stream",
     "text": [
      "25000/25000 [==============================] - 1s 41us/sample - loss: 0.3299 - accuracy: 0.8717\n",
      "[0.3298908181619644, 0.87172]\n"
     ]
    }
   ],
   "source": [
    "# see how model performs on Test data\n",
    "\n",
    "results = model.evaluate(test_data, test_labels)\n",
    "\n",
    "print(results)"
   ]
  },
  {
   "cell_type": "markdown",
   "metadata": {},
   "source": [
    "### Accuracy of about 87 %"
   ]
  },
  {
   "cell_type": "code",
   "execution_count": 23,
   "metadata": {},
   "outputs": [
    {
     "data": {
      "text/plain": [
       "dict_keys(['loss', 'accuracy', 'val_loss', 'val_accuracy'])"
      ]
     },
     "execution_count": 23,
     "metadata": {},
     "output_type": "execute_result"
    }
   ],
   "source": [
    "history_dict = history.history\n",
    "history_dict.keys()"
   ]
  },
  {
   "cell_type": "markdown",
   "metadata": {},
   "source": [
    "### History Object records training - the 4 monitored metrics during training and validation"
   ]
  },
  {
   "cell_type": "markdown",
   "metadata": {},
   "source": [
    "## Create a GRAPH - Accuracy and Loss over Time"
   ]
  },
  {
   "cell_type": "code",
   "execution_count": 25,
   "metadata": {},
   "outputs": [
    {
     "data": {
      "text/plain": [
       "<Figure size 640x480 with 1 Axes>"
      ]
     },
     "metadata": {},
     "output_type": "display_data"
    }
   ],
   "source": [
    "import matplotlib.pyplot as plt\n",
    "\n",
    "acc = history_dict['accuracy']\n",
    "val_acc = history_dict['val_accuracy']\n",
    "loss = history_dict['loss']\n",
    "val_loss = history_dict['val_loss']\n",
    "\n",
    "epochs = range(1, len(acc) + 1)\n",
    "\n",
    "# bo is 'blue dot' - b is 'solid blue line'\n",
    "\n",
    "plt.plot(epochs, loss, 'bo', label='Training Loss')\n",
    "plt.plot(epochs, val_loss, 'b', label='Validation Loss')\n",
    "plt.title('Training and Validation Loss')\n",
    "plt.xlabel('Epochs')\n",
    "plt.ylabel('Loss')\n",
    "plt.legend()\n",
    "\n",
    "plt.show()"
   ]
  },
  {
   "cell_type": "code",
   "execution_count": 27,
   "metadata": {},
   "outputs": [
    {
     "data": {
      "image/png": "[encoded data removed]",
      "text/plain": [
       "<Figure size 432x288 with 1 Axes>"
      ]
     },
     "metadata": {},
     "output_type": "display_data"
    }
   ],
   "source": [
    "# clear figure \n",
    "\n",
    "plt.clf()\n",
    "\n",
    "plt.plot(epochs, acc, 'bo', label='Training Acc')\n",
    "plt.plot(epochs, val_acc, 'b', label='Validation Acc')\n",
    "plt.title('Training and Validation Accuracy')\n",
    "plt.xlabel('Epochs')\n",
    "plt.ylabel('Accuracy')\n",
    "plt.legend()\n",
    "\n",
    "plt.show()"
   ]
  },
  {
   "cell_type": "markdown",
   "metadata": {},
   "source": [
    "### Validation Loss and Accracy appear to peak and plateau - example of Overfitting\n",
    "\n",
    "### Model performs better on data it has seen, than on new data\n",
    "\n",
    "### Address this by Stopping the Epochs around 20 "
   ]
  },
  {
   "cell_type": "code",
   "execution_count": 29,
   "metadata": {},
   "outputs": [],
   "source": [
    "\n",
    "# this TF example was modeled after  -  \"Text classification with movie reviews\"\n",
    "#@title MIT License\n",
    "#\n",
    "# Copyright (c) 2017 François Chollet"
   ]
  }
 ],
 "metadata": {
  "kernelspec": {
   "display_name": "Python 3",
   "language": "python",
   "name": "python3"
  },
  "language_info": {
   "codemirror_mode": {
    "name": "ipython",
    "version": 3
   },
   "file_extension": ".py",
   "mimetype": "text/x-python",
   "name": "python",
   "nbconvert_exporter": "python",
   "pygments_lexer": "ipython3",
   "version": "3.6.5"
  }
 },
 "nbformat": 4,
 "nbformat_minor": 2
}
